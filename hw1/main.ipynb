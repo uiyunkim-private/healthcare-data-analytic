{
 "cells": [
  {
   "cell_type": "code",
   "execution_count": 1,
   "metadata": {},
   "outputs": [],
   "source": [
    "import numpy as np\n",
    "import matplotlib.pyplot as plt\n",
    "import pandas as pd\n",
    "%matplotlib inline\n",
    "\n",
    "import math\n",
    "\n",
    "from sklearn.linear_model import LogisticRegression\n",
    "from sklearn.linear_model import LinearRegression\n",
    "from sklearn.model_selection import train_test_split\n",
    "from sklearn.metrics import accuracy_score\n",
    "\n",
    "from sklearn import metrics\n",
    "\n",
    "\n",
    "import numpy as np\n",
    "\n",
    "from sklearn.compose import ColumnTransformer\n",
    "from sklearn.datasets import fetch_openml\n",
    "from sklearn.pipeline import Pipeline\n",
    "from sklearn.impute import SimpleImputer\n",
    "from sklearn.preprocessing import StandardScaler, OneHotEncoder,OrdinalEncoder\n",
    "from sklearn.linear_model import LogisticRegression\n",
    "from sklearn.model_selection import train_test_split, GridSearchCV\n",
    "from sklearn.neighbors import KNeighborsClassifier\n",
    "from sklearn.naive_bayes import CategoricalNB\n",
    "from sklearn.ensemble import RandomForestClassifier\n"
   ]
  },
  {
   "cell_type": "code",
   "execution_count": 2,
   "metadata": {
    "tags": []
   },
   "outputs": [
    {
     "name": "stderr",
     "output_type": "stream",
     "text": [
      "/Users/uiyunkim/opt/anaconda3/envs/healthcare/lib/python3.7/site-packages/ipykernel_launcher.py:16: SettingWithCopyWarning: \n",
      "A value is trying to be set on a copy of a slice from a DataFrame\n",
      "\n",
      "See the caveats in the documentation: https://pandas.pydata.org/pandas-docs/stable/user_guide/indexing.html#returning-a-view-versus-a-copy\n",
      "  app.launch_new_instance()\n",
      "/Users/uiyunkim/opt/anaconda3/envs/healthcare/lib/python3.7/site-packages/ipykernel_launcher.py:20: SettingWithCopyWarning: \n",
      "A value is trying to be set on a copy of a slice from a DataFrame\n",
      "\n",
      "See the caveats in the documentation: https://pandas.pydata.org/pandas-docs/stable/user_guide/indexing.html#returning-a-view-versus-a-copy\n",
      "/Users/uiyunkim/opt/anaconda3/envs/healthcare/lib/python3.7/site-packages/ipykernel_launcher.py:22: SettingWithCopyWarning: \n",
      "A value is trying to be set on a copy of a slice from a DataFrame\n",
      "\n",
      "See the caveats in the documentation: https://pandas.pydata.org/pandas-docs/stable/user_guide/indexing.html#returning-a-view-versus-a-copy\n",
      "/Users/uiyunkim/opt/anaconda3/envs/healthcare/lib/python3.7/site-packages/ipykernel_launcher.py:26: SettingWithCopyWarning: \n",
      "A value is trying to be set on a copy of a slice from a DataFrame\n",
      "\n",
      "See the caveats in the documentation: https://pandas.pydata.org/pandas-docs/stable/user_guide/indexing.html#returning-a-view-versus-a-copy\n",
      "/Users/uiyunkim/opt/anaconda3/envs/healthcare/lib/python3.7/site-packages/ipykernel_launcher.py:29: SettingWithCopyWarning: \n",
      "A value is trying to be set on a copy of a slice from a DataFrame\n",
      "\n",
      "See the caveats in the documentation: https://pandas.pydata.org/pandas-docs/stable/user_guide/indexing.html#returning-a-view-versus-a-copy\n",
      "/Users/uiyunkim/opt/anaconda3/envs/healthcare/lib/python3.7/site-packages/ipykernel_launcher.py:32: SettingWithCopyWarning: \n",
      "A value is trying to be set on a copy of a slice from a DataFrame\n",
      "\n",
      "See the caveats in the documentation: https://pandas.pydata.org/pandas-docs/stable/user_guide/indexing.html#returning-a-view-versus-a-copy\n"
     ]
    }
   ],
   "source": [
    "#import dataset\n",
    "dataset = pd.read_csv('diabetic_data.csv')\n",
    "\n",
    "#replace '?' with nan\n",
    "dataset = dataset.replace('?', np.NaN)\n",
    "dataset.isnull().sum()\n",
    "\n",
    "#create label and fix\n",
    "label = dataset.filter(items=['readmitted'])\n",
    "label = label.replace('<30',1).replace('>30',0).replace('NO',0)\n",
    "\n",
    "#drop unnessasary feature to create train dataset\n",
    "dataset = dataset.drop(columns=['encounter_id','patient_nbr','readmitted'])\n",
    "# age feature processing\n",
    "for i,row in enumerate(dataset['age']):\n",
    "    dataset['age'][i] = int(row.split('-')[-1].replace(')',\"\"))\n",
    "# weight feature processing\n",
    "for i,row in enumerate(dataset['weight']):\n",
    "    if dataset['weight'][i] is np.NAN:\n",
    "        dataset['weight'][i] = 0\n",
    "    else:\n",
    "        dataset['weight'][i] = 1\n",
    "        \n",
    "for i,row in enumerate(dataset['diag_1']):\n",
    "    if 'V' in str(dataset['diag_1'][i]):\n",
    "         dataset['diag_1'][i] = np.nan\n",
    "for i,row in enumerate(dataset['diag_2']):\n",
    "    if 'V' in str(dataset['diag_2'][i]):\n",
    "         dataset['diag_2'][i] = np.nan\n",
    "for i,row in enumerate(dataset['diag_3']):\n",
    "    if 'V' in str(dataset['diag_3'][i]):\n",
    "         dataset['diag_3'][i] = np.nan\n",
    "            \n",
    "            \n",
    "\n",
    "train = dataset"
   ]
  },
  {
   "cell_type": "code",
   "execution_count": 3,
   "metadata": {},
   "outputs": [],
   "source": [
    "numeric_features = ['time_in_hospital', 'age','num_lab_procedures','num_procedures',\n",
    "                    'num_medications', 'number_outpatient','number_emergency',\n",
    "                    'number_inpatient','number_diagnoses', 'diag_1', 'diag_2', 'diag_3']\n",
    "#numeric_features = ['time_in_hospital', 'age','num_lab_procedures']\n",
    "categorical_features = ['race', 'gender','admission_type_id',\n",
    "                        'discharge_disposition_id','admission_source_id',\n",
    "                        'payer_code', 'max_glu_serum',\n",
    "                        'A1Cresult', 'metformin','repaglinide', 'nateglinide',\n",
    "                        'chlorpropamide', 'glimepiride','acetohexamide', \n",
    "                        'glipizide', 'glyburide', 'tolbutamide','pioglitazone', \n",
    "                        'rosiglitazone', 'acarbose', 'miglitol', 'troglitazone',\n",
    "                        'tolazamide', 'examide', 'citoglipton', 'insulin',\n",
    "                        'glyburide-metformin', 'glipizide-metformin',\n",
    "                        'glimepiride-pioglitazone', 'metformin-rosiglitazone',\n",
    "                        'metformin-pioglitazone', 'change', 'diabetesMed','medical_specialty']\n",
    "#categorical_features = ['race', 'gender','admission_type_id']\n",
    "no_use_category = []"
   ]
  },
  {
   "cell_type": "code",
   "execution_count": 4,
   "metadata": {},
   "outputs": [
    {
     "name": "stdout",
     "output_type": "stream",
     "text": [
      "time_in_hospital\n",
      "[1, 2, 3, 4, 5, 6, 7, 8, 9, 10, 11, 12, 13, 14]\n",
      "age\n",
      "[10, 20, 30, 40, 50, 60, 70, 80, 90, 100]\n",
      "num_lab_procedures\n",
      "[1, 2, 3, 4, 5, 6, 7, 8, 9, 10, 11, 12, 13, 14, 15, 16, 17, 18, 19, 20, 21, 22, 23, 24, 25, 26, 27, 28, 29, 30, 31, 32, 33, 34, 35, 36, 37, 38, 39, 40, 41, 42, 43, 44, 45, 46, 47, 48, 49, 50, 51, 52, 53, 54, 55, 56, 57, 58, 59, 60, 61, 62, 63, 64, 65, 66, 67, 68, 69, 70, 71, 72, 73, 74, 75, 76, 77, 78, 79, 80, 81, 82, 83, 84, 85, 86, 87, 88, 89, 90, 91, 92, 93, 94, 95, 96, 97, 98, 99, 100, 101, 102, 103, 104, 105, 106, 107, 108, 109, 111, 113, 114, 118, 120, 121, 126, 129, 132]\n",
      "num_procedures\n",
      "[0, 1, 2, 3, 4, 5, 6]\n",
      "num_medications\n",
      "[1, 2, 3, 4, 5, 6, 7, 8, 9, 10, 11, 12, 13, 14, 15, 16, 17, 18, 19, 20, 21, 22, 23, 24, 25, 26, 27, 28, 29, 30, 31, 32, 33, 34, 35, 36, 37, 38, 39, 40, 41, 42, 43, 44, 45, 46, 47, 48, 49, 50, 51, 52, 53, 54, 55, 56, 57, 58, 59, 60, 61, 62, 63, 64, 65, 66, 67, 68, 69, 70, 72, 74, 75, 79, 81]\n",
      "number_outpatient\n",
      "[0, 1, 2, 3, 4, 5, 6, 7, 8, 9, 10, 11, 12, 13, 14, 15, 16, 17, 18, 19, 20, 21, 22, 23, 24, 25, 26, 27, 28, 29, 33, 34, 35, 36, 37, 38, 39, 40, 42]\n",
      "number_emergency\n",
      "[0, 1, 2, 3, 4, 5, 6, 7, 8, 9, 10, 11, 12, 13, 14, 15, 16, 18, 19, 20, 21, 22, 24, 25, 28, 29, 37, 42, 46, 54, 63, 64, 76]\n",
      "number_inpatient\n",
      "[0, 1, 2, 3, 4, 5, 6, 7, 8, 9, 10, 11, 12, 13, 14, 15, 16, 17, 18, 19, 21]\n",
      "number_diagnoses\n",
      "[1, 2, 3, 4, 5, 6, 7, 8, 9, 10, 11, 12, 13, 14, 15, 16]\n",
      "diag_1\n",
      "['10', '11', '110', '112', '114', '115', '117', '131', '133', '135', '136', '141', '142', '143', '145', '146', '147', '148', '149', '150', '151', '152', '153', '154', '155', '156', '157', '158', '160', '161', '162', '163', '164', '170', '171', '172', '173', '174', '175', '179', '180', '182', '183', '184', '185', '187', '188', '189', '191', '192', '193', '194', '195', '196', '197', '198', '199', '200', '201', '202', '203', '204', '205', '207', '208', '210', '211', '212', '214', '215', '216', '217', '218', '219', '220', '223', '225', '226', '227', '228', '229', '23', '230', '233', '235', '236', '237', '238', '239', '240', '241', '242', '244', '245', '246', '250', '250.01', '250.02', '250.03', '250.1', '250.11', '250.12', '250.13', '250.2', '250.21', '250.22', '250.23', '250.3', '250.31', '250.32', '250.33', '250.4', '250.41', '250.42', '250.43', '250.5', '250.51', '250.52', '250.53', '250.6', '250.7', '250.8', '250.81', '250.82', '250.83', '250.9', '250.91', '250.92', '250.93', '251', '252', '253', '255', '261', '262', '263', '266', '27', '271', '272', '273', '274', '275', '276', '277', '278', '279', '280', '281', '282', '283', '284', '285', '286', '287', '288', '289', '290', '291', '292', '293', '294', '295', '296', '297', '298', '299', '3', '300', '301', '303', '304', '305', '306', '307', '308', '309', '31', '310', '311', '312', '314', '318', '320', '322', '323', '324', '325', '327', '331', '332', '333', '334', '335', '336', '337', '338', '34', '340', '341', '342', '344', '345', '346', '347', '348', '349', '35', '350', '351', '352', '353', '354', '355', '356', '357', '358', '359', '36', '360', '361', '362', '363', '365', '366', '368', '369', '370', '372', '373', '374', '375', '376', '377', '378', '379', '38', '380', '381', '382', '383', '384', '385', '386', '388', '389', '39', '391', '394', '395', '396', '397', '398', '401', '402', '403', '404', '405', '41', '410', '411', '412', '413', '414', '415', '416', '417', '42', '420', '421', '422', '423', '424', '425', '426', '427', '428', '429', '430', '431', '432', '433', '434', '435', '436', '437', '438', '440', '441', '442', '443', '444', '445', '446', '447', '448', '451', '452', '453', '454', '455', '456', '457', '458', '459', '461', '462', '463', '464', '465', '466', '47', '470', '471', '473', '474', '475', '477', '478', '48', '480', '481', '482', '483', '485', '486', '487', '49', '490', '491', '492', '493', '494', '495', '496', '5', '500', '501', '506', '507', '508', '510', '511', '512', '513', '514', '515', '516', '518', '519', '52', '521', '522', '523', '524', '526', '527', '528', '529', '53', '530', '531', '532', '533', '534', '535', '536', '537', '54', '540', '541', '542', '543', '550', '551', '552', '553', '555', '556', '557', '558', '560', '562', '564', '565', '566', '567', '568', '569', '57', '570', '571', '572', '573', '574', '575', '576', '577', '578', '579', '58', '580', '581', '582', '583', '584', '585', '586', '588', '590', '591', '592', '593', '594', '595', '596', '598', '599', '600', '601', '602', '603', '604', '605', '607', '608', '61', '610', '611', '614', '615', '616', '617', '618', '619', '620', '621', '622', '623', '625', '626', '627', '632', '633', '634', '637', '640', '641', '642', '643', '644', '645', '646', '647', '648', '649', '652', '653', '654', '655', '656', '657', '658', '659', '66', '660', '661', '663', '664', '665', '669', '671', '674', '680', '681', '682', '683', '684', '685', '686', '690', '691', '692', '693', '694', '695', '696', '698', '7', '70', '700', '703', '704', '705', '706', '707', '708', '709', '710', '711', '714', '715', '716', '717', '718', '719', '720', '721', '722', '723', '724', '725', '726', '727', '728', '729', '730', '731', '732', '733', '734', '735', '736', '737', '738', '745', '746', '747', '75', '751', '753', '756', '759', '78', '780', '781', '782', '783', '784', '785', '786', '787', '788', '789', '79', '790', '791', '792', '793', '794', '795', '796', '797', '799', '8', '800', '801', '802', '803', '804', '805', '806', '807', '808', '810', '812', '813', '814', '815', '816', '817', '82', '820', '821', '822', '823', '824', '825', '826', '827', '831', '832', '833', '834', '835', '836', '837', '838', '839', '84', '840', '842', '843', '844', '845', '846', '847', '848', '850', '851', '852', '853', '854', '860', '861', '862', '863', '864', '865', '866', '867', '868', '870', '871', '873', '875', '878', '879', '88', '880', '881', '882', '883', '885', '886', '890', '891', '892', '893', '895', '897', '9', '903', '904', '906', '911', '913', '914', '915', '916', '917', '919', '920', '921', '922', '923', '924', '928', '933', '934', '935', '936', '939', '94', '941', '942', '944', '945', '952', '955', '957', '958', '959', '962', '963', '964', '965', '966', '967', '968', '969', '97', '970', '971', '972', '973', '974', '975', '976', '977', '98', '980', '982', '983', '986', '987', '988', '989', '990', '991', '992', '994', '995', '996', '997', '998', '999', 'E909']\n",
      "diag_2\n",
      "['11', '110', '111', '112', '114', '115', '117', '123', '130', '131', '135', '136', '137', '138', '140', '141', '145', '150', '151', '152', '153', '154', '155', '156', '157', '162', '163', '164', '171', '172', '173', '174', '179', '180', '182', '183', '185', '186', '188', '189', '191', '192', '193', '195', '196', '197', '198', '199', '200', '201', '202', '203', '204', '205', '208', '211', '212', '214', '215', '217', '218', '220', '223', '225', '226', '227', '228', '232', '233', '235', '238', '239', '240', '241', '242', '244', '245', '246', '250', '250.01', '250.02', '250.03', '250.1', '250.11', '250.12', '250.13', '250.2', '250.21', '250.22', '250.23', '250.3', '250.31', '250.32', '250.33', '250.4', '250.41', '250.42', '250.43', '250.5', '250.51', '250.52', '250.53', '250.6', '250.7', '250.8', '250.81', '250.82', '250.83', '250.9', '250.91', '250.92', '250.93', '251', '252', '253', '255', '256', '258', '259', '260', '261', '262', '263', '266', '268', '269', '27', '270', '271', '272', '273', '274', '275', '276', '277', '278', '279', '280', '281', '282', '283', '284', '285', '286', '287', '288', '289', '290', '291', '292', '293', '294', '295', '296', '297', '298', '299', '300', '301', '302', '303', '304', '305', '306', '307', '308', '309', '31', '310', '311', '312', '314', '316', '317', '318', '319', '320', '322', '323', '324', '325', '327', '331', '332', '333', '335', '336', '337', '338', '34', '340', '341', '342', '343', '344', '345', '346', '347', '348', '349', '35', '350', '351', '352', '353', '354', '355', '356', '357', '358', '359', '360', '362', '364', '365', '366', '368', '369', '372', '373', '374', '376', '377', '378', '379', '38', '380', '381', '382', '383', '386', '388', '389', '394', '395', '396', '397', '398', '40', '401', '402', '403', '404', '405', '41', '410', '411', '412', '413', '414', '415', '416', '42', '420', '421', '422', '423', '424', '425', '426', '427', '428', '429', '430', '431', '432', '433', '434', '435', '436', '437', '438', '440', '441', '442', '443', '444', '446', '447', '448', '451', '452', '453', '454', '455', '456', '457', '458', '459', '46', '460', '461', '462', '463', '464', '465', '466', '470', '472', '473', '474', '475', '477', '478', '480', '481', '482', '483', '484', '485', '486', '487', '490', '491', '492', '493', '494', '495', '496', '5', '500', '501', '506', '507', '508', '510', '511', '512', '513', '514', '515', '516', '517', '518', '519', '52', '520', '521', '522', '523', '524', '527', '528', '529', '53', '530', '531', '532', '533', '534', '535', '536', '537', '54', '540', '542', '543', '550', '552', '553', '555', '556', '557', '558', '560', '562', '564', '565', '566', '567', '568', '569', '570', '571', '572', '573', '574', '575', '576', '577', '578', '579', '580', '581', '583', '584', '585', '586', '588', '590', '591', '592', '593', '594', '595', '596', '598', '599', '600', '601', '602', '603', '604', '605', '607', '608', '610', '611', '614', '615', '616', '617', '618', '619', '620', '621', '622', '623', '625', '626', '627', '634', '641', '642', '644', '645', '646', '647', '648', '649', '652', '654', '656', '658', '659', '66', '661', '663', '664', '665', '670', '674', '680', '681', '682', '683', '684', '685', '686', '691', '692', '693', '694', '695', '696', '698', '7', '70', '701', '702', '703', '704', '705', '706', '707', '709', '710', '711', '712', '713', '714', '715', '716', '717', '718', '719', '721', '722', '723', '724', '725', '726', '727', '728', '729', '730', '731', '733', '734', '736', '737', '738', '741', '742', '745', '746', '747', '748', '75', '750', '751', '752', '753', '754', '755', '756', '758', '759', '78', '780', '781', '782', '783', '784', '785', '786', '787', '788', '789', '79', '790', '791', '792', '793', '794', '795', '796', '797', '799', '8', '800', '801', '802', '805', '806', '807', '808', '810', '811', '812', '813', '814', '815', '816', '820', '821', '822', '823', '824', '825', '826', '831', '832', '833', '836', '837', '840', '842', '843', '844', '845', '846', '847', '850', '851', '852', '853', '860', '861', '862', '863', '864', '865', '866', '867', '868', '869', '870', '871', '872', '873', '879', '88', '880', '881', '882', '883', '884', '891', '892', '893', '894', '9', '905', '906', '907', '908', '909', '910', '911', '912', '913', '915', '916', '917', '918', '919', '920', '921', '922', '923', '924', '927', '933', '934', '94', '942', '944', '945', '947', '948', '952', '953', '955', '958', '959', '96', '962', '963', '965', '967', '968', '969', '972', '974', '975', '977', '980', '987', '989', '99', '990', '991', '992', '994', '995', '996', '997', '998', '999', 'E812', 'E813', 'E814', 'E816', 'E817', 'E818', 'E819', 'E821', 'E826', 'E829', 'E849', 'E850', 'E853', 'E854', 'E858', 'E868', 'E870', 'E878', 'E879', 'E880', 'E881', 'E882', 'E883', 'E884', 'E885', 'E887', 'E888', 'E890', 'E900', 'E905', 'E906', 'E915', 'E916', 'E917', 'E918', 'E919', 'E924', 'E927', 'E928', 'E929', 'E930', 'E931', 'E932', 'E933', 'E934', 'E935', 'E936', 'E937', 'E938', 'E939', 'E941', 'E942', 'E944', 'E945', 'E947', 'E950', 'E965', 'E968', 'E980']\n",
      "diag_3\n",
      "['11', '110', '111', '112', '115', '117', '122', '123', '131', '132', '135', '136', '138', '139', '14', '141', '146', '148', '150', '151', '152', '153', '154', '155', '156', '157', '158', '161', '162', '163', '164', '17', '170', '171', '172', '173', '174', '175', '179', '180', '182', '183', '185', '186', '188', '189', '191', '192', '193', '195', '196', '197', '198', '199', '200', '201', '202', '203', '204', '205', '208', '211', '214', '215', '216', '217', '218', '220', '223', '225', '226', '227', '228', '230', '233', '235', '236', '238', '239', '240', '241', '242', '243', '244', '245', '246', '250', '250.01', '250.02', '250.03', '250.1', '250.11', '250.12', '250.13', '250.2', '250.21', '250.22', '250.23', '250.3', '250.31', '250.4', '250.41', '250.42', '250.43', '250.5', '250.51', '250.52', '250.53', '250.6', '250.7', '250.8', '250.81', '250.82', '250.83', '250.9', '250.91', '250.92', '250.93', '251', '252', '253', '255', '256', '258', '259', '260', '261', '262', '263', '265', '266', '268', '27', '270', '271', '272', '273', '274', '275', '276', '277', '278', '279', '280', '281', '282', '283', '284', '285', '286', '287', '288', '289', '290', '291', '292', '293', '294', '295', '296', '297', '298', '299', '3', '300', '301', '303', '304', '305', '306', '307', '308', '309', '310', '311', '312', '313', '314', '315', '317', '318', '319', '323', '327', '331', '332', '333', '334', '335', '336', '337', '338', '34', '340', '341', '342', '343', '344', '345', '346', '347', '348', '349', '35', '350', '351', '353', '354', '355', '356', '357', '358', '359', '360', '361', '362', '365', '365.44', '366', '368', '369', '370', '372', '373', '374', '376', '377', '378', '379', '38', '380', '381', '382', '383', '384', '385', '386', '387', '388', '389', '391', '394', '395', '396', '397', '398', '401', '402', '403', '404', '405', '41', '410', '411', '412', '413', '414', '415', '416', '417', '42', '420', '421', '423', '424', '425', '426', '427', '428', '429', '430', '431', '432', '433', '434', '435', '436', '437', '438', '440', '441', '442', '443', '444', '445', '446', '447', '448', '451', '452', '453', '454', '455', '456', '457', '458', '459', '460', '461', '462', '463', '464', '465', '466', '47', '470', '472', '473', '475', '477', '478', '480', '481', '482', '483', '484', '485', '486', '487', '49', '490', '491', '492', '493', '494', '495', '496', '5', '500', '501', '506', '507', '508', '510', '511', '512', '514', '515', '516', '517', '518', '519', '521', '522', '523', '524', '525', '527', '528', '529', '53', '530', '531', '532', '533', '534', '535', '536', '537', '538', '54', '540', '542', '543', '550', '552', '553', '555', '556', '557', '558', '560', '562', '564', '565', '566', '567', '568', '569', '57', '570', '571', '572', '573', '574', '575', '576', '577', '578', '579', '580', '581', '582', '583', '584', '585', '586', '588', '590', '591', '592', '593', '594', '595', '596', '597', '598', '599', '600', '601', '602', '603', '604', '605', '607', '608', '610', '611', '614', '616', '617', '618', '619', '620', '621', '622', '623', '624', '625', '626', '627', '641', '642', '643', '644', '646', '647', '648', '649', '652', '653', '654', '655', '656', '657', '658', '659', '66', '660', '661', '663', '664', '665', '669', '670', '671', '674', '680', '681', '682', '684', '685', '686', '690', '692', '693', '694', '695', '696', '697', '698', '7', '70', '701', '702', '703', '704', '705', '706', '707', '708', '709', '710', '711', '712', '713', '714', '715', '716', '717', '718', '719', '720', '721', '722', '723', '724', '725', '726', '727', '728', '729', '730', '731', '732', '733', '734', '735', '736', '737', '738', '741', '742', '744', '745', '746', '747', '75', '750', '751', '752', '753', '754', '755', '756', '757', '758', '759', '78', '780', '781', '782', '783', '784', '785', '786', '787', '788', '789', '79', '790', '791', '792', '793', '794', '795', '796', '797', '799', '8', '800', '801', '802', '805', '807', '808', '810', '811', '812', '813', '814', '815', '816', '820', '821', '822', '823', '824', '825', '826', '831', '834', '836', '837', '838', '840', '841', '842', '844', '845', '847', '848', '850', '851', '852', '853', '854', '860', '861', '862', '863', '864', '865', '866', '867', '868', '870', '871', '872', '873', '875', '876', '877', '879', '88', '880', '881', '882', '883', '884', '890', '891', '892', '893', '9', '905', '906', '907', '908', '909', '910', '911', '912', '913', '915', '916', '917', '918', '919', '920', '921', '922', '923', '924', '928', '930', '933', '934', '935', '94', '942', '943', '944', '945', '948', '951', '952', '953', '955', '956', '958', '959', '962', '965', '966', '967', '969', '970', '971', '972', '980', '987', '989', '991', '992', '995', '996', '997', '998', '999', 'E812', 'E813', 'E815', 'E816', 'E817', 'E818', 'E819', 'E822', 'E825', 'E826', 'E828', 'E849', 'E850', 'E852', 'E853', 'E854', 'E855', 'E858', 'E861', 'E864', 'E865', 'E870', 'E876', 'E878', 'E879', 'E880', 'E881', 'E882', 'E883', 'E884', 'E885', 'E886', 'E887', 'E888', 'E892', 'E894', 'E900', 'E901', 'E904', 'E905', 'E906', 'E912', 'E915', 'E916', 'E917', 'E919', 'E920', 'E922', 'E924', 'E927', 'E928', 'E929', 'E930', 'E931', 'E932', 'E933', 'E934', 'E935', 'E936', 'E937', 'E938', 'E939', 'E941', 'E942', 'E943', 'E944', 'E945', 'E946', 'E947', 'E949', 'E950', 'E955', 'E956', 'E965', 'E966', 'E980', 'E987']\n"
     ]
    }
   ],
   "source": [
    "numeric_data = []\n",
    "for feat in numeric_features:\n",
    "    print(feat)\n",
    "    print(list(train.groupby(feat).groups.keys()))\n",
    "    numeric_data.append(list(train.groupby(feat).groups.keys()))"
   ]
  },
  {
   "cell_type": "code",
   "execution_count": 5,
   "metadata": {},
   "outputs": [
    {
     "name": "stdout",
     "output_type": "stream",
     "text": [
      "race\n",
      "['AfricanAmerican', 'Asian', 'Caucasian', 'Hispanic', 'Other']\n",
      "gender\n",
      "['Female', 'Male', 'Unknown/Invalid']\n",
      "admission_type_id\n",
      "[1, 2, 3, 4, 5, 6, 7, 8]\n",
      "discharge_disposition_id\n",
      "[1, 2, 3, 4, 5, 6, 7, 8, 9, 10, 11, 12, 13, 14, 15, 16, 17, 18, 19, 20, 22, 23, 24, 25, 27, 28]\n",
      "admission_source_id\n",
      "[1, 2, 3, 4, 5, 6, 7, 8, 9, 10, 11, 13, 14, 17, 20, 22, 25]\n",
      "payer_code\n",
      "['BC', 'CH', 'CM', 'CP', 'DM', 'FR', 'HM', 'MC', 'MD', 'MP', 'OG', 'OT', 'PO', 'SI', 'SP', 'UN', 'WC']\n",
      "max_glu_serum\n",
      "['>200', '>300', 'None', 'Norm']\n",
      "A1Cresult\n",
      "['>7', '>8', 'None', 'Norm']\n",
      "metformin\n",
      "['Down', 'No', 'Steady', 'Up']\n",
      "repaglinide\n",
      "['Down', 'No', 'Steady', 'Up']\n",
      "nateglinide\n",
      "['Down', 'No', 'Steady', 'Up']\n",
      "chlorpropamide\n",
      "['Down', 'No', 'Steady', 'Up']\n",
      "glimepiride\n",
      "['Down', 'No', 'Steady', 'Up']\n",
      "acetohexamide\n",
      "['No', 'Steady']\n",
      "glipizide\n",
      "['Down', 'No', 'Steady', 'Up']\n",
      "glyburide\n",
      "['Down', 'No', 'Steady', 'Up']\n",
      "tolbutamide\n",
      "['No', 'Steady']\n",
      "pioglitazone\n",
      "['Down', 'No', 'Steady', 'Up']\n",
      "rosiglitazone\n",
      "['Down', 'No', 'Steady', 'Up']\n",
      "acarbose\n",
      "['Down', 'No', 'Steady', 'Up']\n",
      "miglitol\n",
      "['Down', 'No', 'Steady', 'Up']\n",
      "troglitazone\n",
      "['No', 'Steady']\n",
      "tolazamide\n",
      "['No', 'Steady', 'Up']\n",
      "examide\n",
      "['No']\n",
      "citoglipton\n",
      "['No']\n",
      "insulin\n",
      "['Down', 'No', 'Steady', 'Up']\n",
      "glyburide-metformin\n",
      "['Down', 'No', 'Steady', 'Up']\n",
      "glipizide-metformin\n",
      "['No', 'Steady']\n",
      "glimepiride-pioglitazone\n",
      "['No', 'Steady']\n",
      "metformin-rosiglitazone\n",
      "['No', 'Steady']\n",
      "metformin-pioglitazone\n",
      "['No', 'Steady']\n",
      "change\n",
      "['Ch', 'No']\n",
      "diabetesMed\n",
      "['No', 'Yes']\n",
      "medical_specialty\n",
      "['AllergyandImmunology', 'Anesthesiology', 'Anesthesiology-Pediatric', 'Cardiology', 'Cardiology-Pediatric', 'DCPTEAM', 'Dentistry', 'Dermatology', 'Emergency/Trauma', 'Endocrinology', 'Endocrinology-Metabolism', 'Family/GeneralPractice', 'Gastroenterology', 'Gynecology', 'Hematology', 'Hematology/Oncology', 'Hospitalist', 'InfectiousDiseases', 'InternalMedicine', 'Nephrology', 'Neurology', 'Neurophysiology', 'Obsterics&Gynecology-GynecologicOnco', 'Obstetrics', 'ObstetricsandGynecology', 'Oncology', 'Ophthalmology', 'Orthopedics', 'Orthopedics-Reconstructive', 'Osteopath', 'Otolaryngology', 'OutreachServices', 'Pathology', 'Pediatrics', 'Pediatrics-AllergyandImmunology', 'Pediatrics-CriticalCare', 'Pediatrics-EmergencyMedicine', 'Pediatrics-Endocrinology', 'Pediatrics-Hematology-Oncology', 'Pediatrics-InfectiousDiseases', 'Pediatrics-Neurology', 'Pediatrics-Pulmonology', 'Perinatology', 'PhysicalMedicineandRehabilitation', 'PhysicianNotFound', 'Podiatry', 'Proctology', 'Psychiatry', 'Psychiatry-Addictive', 'Psychiatry-Child/Adolescent', 'Psychology', 'Pulmonology', 'Radiologist', 'Radiology', 'Resident', 'Rheumatology', 'Speech', 'SportsMedicine', 'Surgeon', 'Surgery-Cardiovascular', 'Surgery-Cardiovascular/Thoracic', 'Surgery-Colon&Rectal', 'Surgery-General', 'Surgery-Maxillofacial', 'Surgery-Neuro', 'Surgery-Pediatric', 'Surgery-Plastic', 'Surgery-PlasticwithinHeadandNeck', 'Surgery-Thoracic', 'Surgery-Vascular', 'SurgicalSpecialty', 'Urology']\n"
     ]
    }
   ],
   "source": [
    "category_data = []\n",
    "for feat in categorical_features:\n",
    "    print(feat)\n",
    "    print(list(train.groupby(feat).groups.keys()))\n",
    "    category_data.append(list(train.groupby(feat).groups.keys()))\n"
   ]
  },
  {
   "cell_type": "code",
   "execution_count": 6,
   "metadata": {
    "tags": []
   },
   "outputs": [
    {
     "name": "stdout",
     "output_type": "stream",
     "text": [
      "[0 0 0 ... 0 0 0]\n"
     ]
    },
    {
     "name": "stderr",
     "output_type": "stream",
     "text": [
      "/Users/uiyunkim/opt/anaconda3/envs/healthcare/lib/python3.7/site-packages/sklearn/utils/validation.py:72: DataConversionWarning: A column-vector y was passed when a 1d array was expected. Please change the shape of y to (n_samples, ), for example using ravel().\n",
      "  return f(**kwargs)\n"
     ]
    }
   ],
   "source": [
    "#Encode label with categorical LabelEncoder\n",
    "from sklearn.preprocessing import LabelEncoder\n",
    "encoded_label = LabelEncoder().fit_transform(label)\n",
    "print(encoded_label)"
   ]
  },
  {
   "cell_type": "code",
   "execution_count": 28,
   "metadata": {},
   "outputs": [],
   "source": [
    "from sklearn.preprocessing import StandardScaler\n",
    "from sklearn.preprocessing import MinMaxScaler\n",
    "from sklearn.linear_model import LogisticRegressionCV\n",
    "from sklearn.tree import DecisionTreeClassifier\n",
    "from sklearn.preprocessing import Normalizer\n",
    "from sklearn.preprocessing import PowerTransformer\n",
    "from sklearn.preprocessing import RobustScaler"
   ]
  },
  {
   "cell_type": "code",
   "execution_count": 112,
   "metadata": {},
   "outputs": [
    {
     "name": "stdout",
     "output_type": "stream",
     "text": [
      "91589\n",
      "10177\n",
      "91589\n",
      "10177\n"
     ]
    }
   ],
   "source": [
    "for feature in ['diag_1','diag_2','diag_3']:\n",
    "    train[feature] = pd.to_numeric(train[feature],errors='coerce')\n",
    "    \n",
    "X_train, X_test, y_train, y_test = train_test_split(train, label, test_size=0.1)\n",
    "\n",
    "print(len(X_train))\n",
    "print(len(X_test))\n",
    "print(len(y_train))\n",
    "print(len(y_test))"
   ]
  },
  {
   "cell_type": "code",
   "execution_count": 113,
   "metadata": {
    "tags": []
   },
   "outputs": [
    {
     "name": "stdout",
     "output_type": "stream",
     "text": [
      "1  :  0.802790606269038\n",
      "2  :  0.8719661982902623\n",
      "3  :  0.8555566473420458\n",
      "4  :  0.8770757590645574\n",
      "5  :  0.8722609806426256\n",
      "6  :  0.8791392355310995\n",
      "7  :  0.8777635845534048\n",
      "8  :  0.8821853198388523\n",
      "9  :  0.880023582588189\n"
     ]
    },
    {
     "data": {
      "image/png": "[encoded data removed]",
      "text/plain": [
       "<Figure size 432x288 with 1 Axes>"
      ]
     },
     "metadata": {
      "needs_background": "light"
     },
     "output_type": "display_data"
    }
   ],
   "source": [
    "numeric_transformer = Pipeline(steps=[\n",
    "     ('imputer', SimpleImputer(strategy='most_frequent')),\n",
    "     ('scaler', StandardScaler()),\n",
    "     ('normalize',Normalizer()),\n",
    "    ])\n",
    "\n",
    "categorical_transformer = Pipeline(steps=[\n",
    "    ('imputer', SimpleImputer(strategy='most_frequent', fill_value='missing')),\n",
    "    ('ordinal',OrdinalEncoder(categories=category_data)),\n",
    "    #('box-cox',PowerTransformer(method='yeo-johnson')),\n",
    "    ('scaler', StandardScaler()),\n",
    "    #('minmax',MinMaxScaler()),\n",
    "    ('normalize',Normalizer()),\n",
    "    #('onehot', OneHotEncoder(categories=category_data,handle_unknown='ignore')),\n",
    "    #('scaler', StandardScaler()),\n",
    "    ])\n",
    "\n",
    "preprocessor = ColumnTransformer(\n",
    "    transformers=[\n",
    "        ('num', numeric_transformer, numeric_features),\n",
    "        ('cat', categorical_transformer, categorical_features)])\n",
    "\n",
    "X_train.filter(items=numeric_features+categorical_features).to_csv(\"before.csv\")\n",
    "X_train = preprocessor.fit_transform(X_train)\n",
    "\n",
    "pd.DataFrame(X_train).to_csv(\"after.csv\")\n",
    "X_test = preprocessor.fit_transform(X_test)\n",
    "\n",
    "# iter_range = range(200,204)\n",
    "# acc_list =[]\n",
    "# for i in iter_range:\n",
    "#     model = LogisticRegression()\n",
    "#     model.fit(X_train,y_train.values.ravel())\n",
    "#     result = model.score(X_test,y_test.values.ravel())\n",
    "#     print(i,' : ',result)\n",
    "#     acc_list.append(result)\n",
    "\n",
    "# plt.plot(acc_list)\n",
    "# plt.show()\n",
    "\n",
    "\n",
    "iter_range = range(1,10)\n",
    "acc_list =[]\n",
    "for i in iter_range:\n",
    "    model = KNeighborsClassifier(n_neighbors=i)\n",
    "    model.fit(X_train,y_train.values.ravel())\n",
    "    result = model.score(X_test,y_test.values.ravel())\n",
    "    print(i,' : ',result)\n",
    "    acc_list.append(result)\n",
    "\n",
    "plt.plot(acc_list)\n",
    "plt.show()\n",
    "\n"
   ]
  },
  {
   "cell_type": "raw",
   "metadata": {},
   "source": [
    "model = [LogisticRegression(max_iter=9999),\n",
    "         KNeighborsClassifier(n_neighbors=3),\n",
    "         RandomForestClassifier(max_depth=21,random_state=0),\n",
    "         DecisionTreeClassifier(max_depth=5,random_state=0),]\n",
    "         #CategoricalNB()]\n",
    "for classifier in model:\n",
    "\n",
    "    pipe = Pipeline(steps=[('preprocessor', preprocessor),\n",
    "                          ('classifier', classifier)])\n",
    "    \n",
    "\n",
    "    pipe.fit(X_train, y_train.values.ravel())\n",
    "#     print(X_test)\n",
    "#     print(y_test)\n",
    "    \n",
    "\n",
    "    \n",
    "    print(\"model score: %.3f\" % pipe.score(X_test, y_test))"
   ]
  },
  {
   "cell_type": "code",
   "execution_count": null,
   "metadata": {},
   "outputs": [],
   "source": []
  }
 ],
 "metadata": {
  "kernelspec": {
   "display_name": "healthcare",
   "language": "python",
   "name": "healthcare"
  },
  "language_info": {
   "codemirror_mode": {
    "name": "ipython",
    "version": 3
   },
   "file_extension": ".py",
   "mimetype": "text/x-python",
   "name": "python",
   "nbconvert_exporter": "python",
   "pygments_lexer": "ipython3",
   "version": "3.7.9"
  }
 },
 "nbformat": 4,
 "nbformat_minor": 4
}
