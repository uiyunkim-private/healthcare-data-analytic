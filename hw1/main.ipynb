{
 "metadata": {
  "language_info": {
   "codemirror_mode": {
    "name": "ipython",
    "version": 3
   },
   "file_extension": ".py",
   "mimetype": "text/x-python",
   "name": "python",
   "nbconvert_exporter": "python",
   "pygments_lexer": "ipython3",
   "version": "3.7.9-final"
  },
  "orig_nbformat": 2,
  "kernelspec": {
   "name": "python_defaultSpec_1599251884015",
   "display_name": "Python 3.7.9 64-bit ('healthcare': conda)"
  }
 },
 "nbformat": 4,
 "nbformat_minor": 2,
 "cells": [
  {
   "cell_type": "code",
   "execution_count": 1,
   "metadata": {},
   "outputs": [],
   "source": [
    "import numpy as np\n",
    "import matplotlib.pyplot as plt\n",
    "import pandas as pd\n",
    "%matplotlib inline\n",
    "\n",
    "import math\n",
    "\n",
    "from sklearn.linear_model import LogisticRegression\n",
    "from sklearn.linear_model import LinearRegression\n",
    "from sklearn.model_selection import train_test_split\n",
    "from sklearn.metrics import accuracy_score\n",
    "\n",
    "from sklearn import metrics"
   ]
  },
  {
   "cell_type": "code",
   "execution_count": 2,
   "metadata": {
    "tags": []
   },
   "outputs": [],
   "source": [
    "#importing the dataset \n",
    "dataset = pd.read_csv('diabetic_data.csv')\n",
    "dataset = dataset.drop(columns=['encounter_id','patient_nbr'])\n",
    "dataset = dataset.replace('<30',1).replace('>30',0).replace('NO',0)"
   ]
  },
  {
   "cell_type": "code",
   "execution_count": null,
   "metadata": {
    "tags": []
   },
   "outputs": [],
   "source": [
    "grouped = dataset.groupby('readmitted')\n",
    "grouped.hist(figsize=(12,12))\n",
    "print(\"Size\",grouped.size())\n"
   ]
  },
  {
   "cell_type": "code",
   "execution_count": 3,
   "metadata": {
    "tags": []
   },
   "outputs": [
    {
     "output_type": "execute_result",
     "data": {
      "text/plain": "race                         2273\ngender                          0\nage                             0\nweight                      98569\nadmission_type_id               0\ndischarge_disposition_id        0\nadmission_source_id             0\ntime_in_hospital                0\npayer_code                  40256\nmedical_specialty           49949\nnum_lab_procedures              0\nnum_procedures                  0\nnum_medications                 0\nnumber_outpatient               0\nnumber_emergency                0\nnumber_inpatient                0\ndiag_1                         21\ndiag_2                        358\ndiag_3                       1423\nnumber_diagnoses                0\nmax_glu_serum                   0\nA1Cresult                       0\nmetformin                       0\nrepaglinide                     0\nnateglinide                     0\nchlorpropamide                  0\nglimepiride                     0\nacetohexamide                   0\nglipizide                       0\nglyburide                       0\ntolbutamide                     0\npioglitazone                    0\nrosiglitazone                   0\nacarbose                        0\nmiglitol                        0\ntroglitazone                    0\ntolazamide                      0\nexamide                         0\ncitoglipton                     0\ninsulin                         0\nglyburide-metformin             0\nglipizide-metformin             0\nglimepiride-pioglitazone        0\nmetformin-rosiglitazone         0\nmetformin-pioglitazone          0\nchange                          0\ndiabetesMed                     0\nreadmitted                      0\ndtype: int64"
     },
     "metadata": {},
     "execution_count": 3
    }
   ],
   "source": [
    "dataset = dataset.replace('?', np.NaN)\n",
    "dataset.isnull().sum()"
   ]
  },
  {
   "cell_type": "code",
   "execution_count": 12,
   "metadata": {
    "tags": []
   },
   "outputs": [
    {
     "output_type": "stream",
     "name": "stdout",
     "text": "Index(['race', 'gender', 'age', 'weight', 'admission_type_id',\n       'discharge_disposition_id', 'admission_source_id', 'time_in_hospital',\n       'payer_code', 'medical_specialty', 'num_lab_procedures',\n       'num_procedures', 'num_medications', 'number_outpatient',\n       'number_emergency', 'number_inpatient', 'diag_1', 'diag_2', 'diag_3',\n       'number_diagnoses', 'max_glu_serum', 'A1Cresult', 'metformin',\n       'repaglinide', 'nateglinide', 'chlorpropamide', 'glimepiride',\n       'acetohexamide', 'glipizide', 'glyburide', 'tolbutamide',\n       'pioglitazone', 'rosiglitazone', 'acarbose', 'miglitol', 'troglitazone',\n       'tolazamide', 'examide', 'citoglipton', 'insulin',\n       'glyburide-metformin', 'glipizide-metformin',\n       'glimepiride-pioglitazone', 'metformin-rosiglitazone',\n       'metformin-pioglitazone', 'change', 'diabetesMed'],\n      dtype='object')\n"
    }
   ],
   "source": [
    "label = dataset.filter(items=['readmitted'])\n",
    "train = dataset.drop(columns=['readmitted'])\n",
    "print(train.columns)"
   ]
  },
  {
   "cell_type": "code",
   "execution_count": 5,
   "metadata": {
    "tags": []
   },
   "outputs": [
    {
     "output_type": "stream",
     "name": "stdout",
     "text": "readmitted\n0                0\n1                0\n2                0\n3                0\n4                0\n...            ...\n101761           0\n101762           0\n101763           0\n101764           0\n101765           0\n\n[101766 rows x 1 columns]\n                   race  gender      age weight  admission_type_id  \\\n0             Caucasian  Female   [0-10)    NaN                  6   \n1             Caucasian  Female  [10-20)    NaN                  1   \n2       AfricanAmerican  Female  [20-30)    NaN                  1   \n3             Caucasian    Male  [30-40)    NaN                  1   \n4             Caucasian    Male  [40-50)    NaN                  1   \n...                 ...     ...      ...    ...                ...   \n101761  AfricanAmerican    Male  [70-80)    NaN                  1   \n101762  AfricanAmerican  Female  [80-90)    NaN                  1   \n101763        Caucasian    Male  [70-80)    NaN                  1   \n101764        Caucasian  Female  [80-90)    NaN                  2   \n101765        Caucasian    Male  [70-80)    NaN                  1   \n\n        discharge_disposition_id  admission_source_id  time_in_hospital  \\\n0                             25                    1                 1   \n1                              1                    7                 3   \n2                              1                    7                 2   \n3                              1                    7                 2   \n4                              1                    7                 1   \n...                          ...                  ...               ...   \n101761                         3                    7                 3   \n101762                         4                    5                 5   \n101763                         1                    7                 1   \n101764                         3                    7                10   \n101765                         1                    7                 6   \n\n       payer_code         medical_specialty  ...  examide  citoglipton  \\\n0             NaN  Pediatrics-Endocrinology  ...       No           No   \n1             NaN                       NaN  ...       No           No   \n2             NaN                       NaN  ...       No           No   \n3             NaN                       NaN  ...       No           No   \n4             NaN                       NaN  ...       No           No   \n...           ...                       ...  ...      ...          ...   \n101761         MC                       NaN  ...       No           No   \n101762         MC                       NaN  ...       No           No   \n101763         MC                       NaN  ...       No           No   \n101764         MC           Surgery-General  ...       No           No   \n101765        NaN                       NaN  ...       No           No   \n\n        insulin  glyburide-metformin  glipizide-metformin  \\\n0            No                   No                   No   \n1            Up                   No                   No   \n2            No                   No                   No   \n3            Up                   No                   No   \n4        Steady                   No                   No   \n...         ...                  ...                  ...   \n101761     Down                   No                   No   \n101762   Steady                   No                   No   \n101763     Down                   No                   No   \n101764       Up                   No                   No   \n101765       No                   No                   No   \n\n        glimepiride-pioglitazone metformin-rosiglitazone  \\\n0                             No                      No   \n1                             No                      No   \n2                             No                      No   \n3                             No                      No   \n4                             No                      No   \n...                          ...                     ...   \n101761                        No                      No   \n101762                        No                      No   \n101763                        No                      No   \n101764                        No                      No   \n101765                        No                      No   \n\n       metformin-pioglitazone change  diabetesMed  \n0                          No     No           No  \n1                          No     Ch          Yes  \n2                          No     No          Yes  \n3                          No     Ch          Yes  \n4                          No     Ch          Yes  \n...                       ...    ...          ...  \n101761                     No     Ch          Yes  \n101762                     No     No          Yes  \n101763                     No     Ch          Yes  \n101764                     No     Ch          Yes  \n101765                     No     No           No  \n\n[101766 rows x 47 columns]\n"
    }
   ],
   "source": [
    "print(label)\n",
    "print(train)"
   ]
  },
  {
   "cell_type": "code",
   "execution_count": 7,
   "metadata": {},
   "outputs": [],
   "source": [
    "from sklearn.preprocessing import LabelEncoder\n",
    "encoded_label = LabelEncoder().fit_transform(label)\n",
    "print(encoded_label)"
   ]
  },
  {
   "cell_type": "code",
   "execution_count": 9,
   "metadata": {
    "tags": []
   },
   "outputs": [
    {
     "output_type": "execute_result",
     "data": {
      "text/plain": "array([0, 0, 0, ..., 0, 0, 0])"
     },
     "metadata": {},
     "execution_count": 9
    }
   ],
   "source": []
  },
  {
   "cell_type": "code",
   "execution_count": null,
   "metadata": {},
   "outputs": [],
   "source": [
    "numeric_features = [ \n",
    "         'time_in_hospital','num_lab_procedures','num_procedures',\n",
    "          'num_medications', 'number_outpatient','number_emergency',\n",
    "           'number_inpatient', 'diag_1', 'diag_2', 'diag_3','number_diagnoses',  \n",
    "       ]\n",
    "\n",
    "numeric_transformer = Pipeline(steps=[\n",
    "    ('imputer', SimpleImputer(strategy='median')),\n",
    "    ('scaler', StandardScaler())])\n",
    "\n",
    "categorical_features = ['race', 'gender', 'age', 'weight','admission_type_id',\n",
    "                        'discharge_disposition_id','admission_source_id',\n",
    "                        'payer_code', 'medical_specialty','max_glu_serum',\n",
    "                        'A1Cresult', 'metformin','repaglinide', 'nateglinide',\n",
    "                        'chlorpropamide', 'glimepiride','acetohexamide', \n",
    "                        'glipizide', 'glyburide', 'tolbutamide','pioglitazone', \n",
    "                        'rosiglitazone', 'acarbose', 'miglitol', 'troglitazone',\n",
    "                        'tolazamide', 'examide', 'citoglipton', 'insulin',\n",
    "                        'glyburide-metformin', 'glipizide-metformin',\n",
    "                        'glimepiride-pioglitazone', 'metformin-rosiglitazone',\n",
    "                        'metformin-pioglitazone', 'change', 'diabetesMed']\n",
    "\n",
    "categorical_transformer = Pipeline(steps=[\n",
    "    ('imputer', SimpleImputer(strategy='constant', fill_value='missing')),\n",
    "    ('onehot', OneHotEncoder(handle_unknown='ignore'))])\n",
    "\n",
    "preprocessor = ColumnTransformer(\n",
    "    transformers=[\n",
    "        ('num', numeric_transformer, numeric_features),\n",
    "        ('cat', categorical_transformer, categorical_features)])\n",
    "\n",
    "pipe = Pipeline(steps=[('preprocessor', preprocessor),\n",
    "                      ('classifier', LogisticRegression())])\n",
    "\n",
    "X_train, X_test, y_train, y_test = train_test_split(X, y, test_size=0.2)\n",
    "\n",
    "pipe.fit(X_train, y_train)\n",
    "print(\"model score: %.3f\" % pipe.score(X_test, y_test))"
   ]
  }
 ]
}